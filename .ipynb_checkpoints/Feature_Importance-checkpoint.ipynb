{
 "cells": [
  {
   "cell_type": "code",
   "execution_count": null,
   "metadata": {
    "collapsed": true
   },
   "outputs": [],
   "source": [
    "# This notebook aims to extract importance features out of matched pairs\n",
    "# Two methods will be used: PCA and logistic regression"
   ]
  },
  {
   "cell_type": "code",
   "execution_count": 1,
   "metadata": {
    "collapsed": true
   },
   "outputs": [],
   "source": [
    "# read data\n",
    "import numpy as np # linear algebra\n",
    "import pandas as pd # data processing, CSV file I/O (e.g. pd.read_csv)\n",
    "data = pd.read_csv(\"Speed Dating Data.csv\", encoding=\"ISO-8859-1\")"
   ]
  },
  {
   "cell_type": "code",
   "execution_count": 3,
   "metadata": {
    "collapsed": false
   },
   "outputs": [
    {
     "data": {
      "text/plain": [
       "(6969, 23)"
      ]
     },
     "execution_count": 3,
     "metadata": {},
     "output_type": "execute_result"
    }
   ],
   "source": [
    "input_vars = ['attr_o', 'sinc_o', 'intel_o','fun_o','amb_o','shar_o', 'sports','tvsports','exercise','dining','museums','art','hiking','gaming','clubbing','reading','tv','theater','movies','concerts','music','shopping','yoga']\n",
    "# preprocessing, dealing with NaN cells\n",
    "features = data.dropna(subset = input_vars).loc[:, input_vars]\n",
    "match = data.dropna(subset = input_vars).match\n",
    "features.shape"
   ]
  },
  {
   "cell_type": "code",
   "execution_count": 3,
   "metadata": {
    "collapsed": true
   },
   "outputs": [],
   "source": [
    "from sklearn.preprocessing import scale\n",
    "from sklearn.decomposition import PCA\n",
    "from sklearn import cross_validation\n",
    "from sklearn.linear_model import LinearRegression"
   ]
  },
  {
   "cell_type": "code",
   "execution_count": 4,
   "metadata": {
    "collapsed": false
   },
   "outputs": [],
   "source": [
    "import matplotlib.pyplot as plt\n",
    "%matplotlib inline"
   ]
  },
  {
   "cell_type": "code",
   "execution_count": 24,
   "metadata": {
    "collapsed": false
   },
   "outputs": [
    {
     "data": {
      "text/plain": [
       "array([  17.18,   32.41,   41.24,   48.48,   54.06,   59.02,   63.64,\n",
       "         67.86,   71.6 ,   74.99,   78.16,   81.24,   83.74,   86.19,\n",
       "         88.37,   90.4 ,   92.31,   94.11,   95.61,   97.02,   98.27,\n",
       "         99.46,  100.03])"
      ]
     },
     "execution_count": 24,
     "metadata": {},
     "output_type": "execute_result"
    }
   ],
   "source": [
    "# PCA and linear regression\n",
    "pca = PCA()\n",
    "X_reduced = pca.fit_transform(scale(features)) # notice the scale!\n",
    "y = match\n",
    "# 10-fold CV, with shuffle\n",
    "n = len(X_reduced)\n",
    "kf_10 = cross_validation.KFold(n, n_folds=10, shuffle=True, random_state=2)\n",
    "\n",
    "regr = LinearRegression()\n",
    "mse = []\n",
    "score = -1*cross_validation.cross_val_score(regr, np.ones((n,1)), y.ravel(), cv=kf_10, scoring='mean_squared_error').mean()\n",
    "mse.append(score) \n",
    "\n",
    "np.cumsum(np.round(pca.explained_variance_ratio_, decimals=4)*100)"
   ]
  },
  {
   "cell_type": "code",
   "execution_count": 25,
   "metadata": {
    "collapsed": false
   },
   "outputs": [
    {
     "data": {
      "text/plain": [
       "<matplotlib.text.Text at 0x11fefe2e8>"
      ]
     },
     "execution_count": 25,
     "metadata": {},
     "output_type": "execute_result"
    },
    {
     "data": {
      "image/png": "[encoded data removed]",
      "text/plain": [
       "<matplotlib.figure.Figure at 0x11fed6358>"
      ]
     },
     "metadata": {},
     "output_type": "display_data"
    }
   ],
   "source": [
    "plt.figure(1, figsize=(4, 3))\n",
    "plt.clf()\n",
    "plt.axes([.2, .2, .7, .7])\n",
    "plt.plot(pca.explained_variance_, linewidth=2)\n",
    "plt.axis('tight')\n",
    "plt.xlabel('n_components')\n",
    "plt.ylabel('explained_variance_')"
   ]
  },
  {
   "cell_type": "code",
   "execution_count": 26,
   "metadata": {
    "collapsed": false
   },
   "outputs": [
    {
     "data": {
      "text/plain": [
       "(6969, 23)"
      ]
     },
     "execution_count": 26,
     "metadata": {},
     "output_type": "execute_result"
    }
   ],
   "source": [
    "X_reduced.shape"
   ]
  },
  {
   "cell_type": "code",
   "execution_count": 27,
   "metadata": {
    "collapsed": true
   },
   "outputs": [],
   "source": [
    "# Do CV for the principle components, adding one component to the regression at the time\n",
    "for i in np.arange(1,23):\n",
    "    score = -1*cross_validation.cross_val_score(regr, X_reduced[:,:i], y.ravel(), cv=kf_10, scoring='mean_squared_error').mean()\n",
    "    mse.append(score)"
   ]
  },
  {
   "cell_type": "code",
   "execution_count": 28,
   "metadata": {
    "collapsed": false
   },
   "outputs": [
    {
     "data": {
      "image/png": "[encoded data removed]",
      "text/plain": [
       "<matplotlib.figure.Figure at 0x11fefef98>"
      ]
     },
     "metadata": {},
     "output_type": "display_data"
    }
   ],
   "source": [
    "fig, (ax1, ax2) = plt.subplots(1,2, figsize=(12,5))\n",
    "ax1.plot(mse, '-v')\n",
    "ax2.plot([1,2,3,4,5,6,7,8,9,10,11,12,13,14,15,16,17,18,19,20,21,22], mse[1:23], '-v')\n",
    "ax2.set_title('Intercept excluded from plot')\n",
    "for ax in fig.axes:\n",
    "    ax.set_xlabel('Number of principal components in regression')\n",
    "    ax.set_ylabel('MSE')\n",
    "    ax.set_xlim((-0.2,5.2))"
   ]
  },
  {
   "cell_type": "code",
   "execution_count": 29,
   "metadata": {
    "collapsed": false
   },
   "outputs": [
    {
     "data": {
      "text/plain": [
       "(6969, 2)"
      ]
     },
     "execution_count": 29,
     "metadata": {},
     "output_type": "execute_result"
    }
   ],
   "source": [
    "# So we will just keep the first 2 PCs\n",
    "pca = PCA(n_components=2)\n",
    "X_reduced = pca.fit_transform(scale(features))\n",
    "X_reduced.shape"
   ]
  },
  {
   "cell_type": "code",
   "execution_count": 30,
   "metadata": {
    "collapsed": false
   },
   "outputs": [
    {
     "data": {
      "text/plain": [
       "array([[ 0.02367599,  0.00808627, -0.01828524,  0.01719459, -0.02095961,\n",
       "         0.01582113, -0.10810175, -0.03877602, -0.0051853 ,  0.27652813,\n",
       "         0.39303793,  0.39154978,  0.08960631,  0.01630226,  0.11788399,\n",
       "         0.15021002,  0.13438864,  0.37804481,  0.30701891,  0.33628436,\n",
       "         0.27900496,  0.24934805,  0.21790185],\n",
       "       [-0.37910169, -0.4003235 , -0.41821331, -0.4363436 , -0.39327924,\n",
       "        -0.38869768, -0.08542446, -0.023839  , -0.0759307 , -0.03463784,\n",
       "        -0.00388648, -0.00844558, -0.04118417,  0.02188786, -0.03966624,\n",
       "         0.01236989,  0.04845514,  0.02974361,  0.03420576,  0.00802246,\n",
       "        -0.01577833,  0.00631084, -0.03735932]])"
      ]
     },
     "execution_count": 30,
     "metadata": {},
     "output_type": "execute_result"
    }
   ],
   "source": [
    "pca.components_"
   ]
  },
  {
   "cell_type": "code",
   "execution_count": 31,
   "metadata": {
    "collapsed": false
   },
   "outputs": [
    {
     "data": {
      "text/plain": [
       "(6969, 23)"
      ]
     },
     "execution_count": 31,
     "metadata": {},
     "output_type": "execute_result"
    }
   ],
   "source": [
    "scale(features).shape"
   ]
  },
  {
   "cell_type": "code",
   "execution_count": 32,
   "metadata": {
    "collapsed": false
   },
   "outputs": [],
   "source": [
    "# projection\n",
    "PC1 = pca.components_[0,:]\n",
    "PC2 = pca.components_[1,:]\n",
    "X = scale(features).dot(PC1.transpose())\n",
    "Y = scale(features).dot(PC2.transpose())"
   ]
  },
  {
   "cell_type": "code",
   "execution_count": 33,
   "metadata": {
    "collapsed": false
   },
   "outputs": [
    {
     "data": {
      "image/png": "[encoded data removed]",
      "text/plain": [
       "<matplotlib.figure.Figure at 0x11fe83438>"
      ]
     },
     "metadata": {},
     "output_type": "display_data"
    }
   ],
   "source": [
    "proj = plt.figure()\n",
    "plt.plot(X,Y)\n",
    "plt.xlabel(\"first PC\")\n",
    "plt.ylabel(\"second PC\")\n",
    "plt.title(\"Feature data projected on first 2 principle components\")\n",
    "plt.show()"
   ]
  },
  {
   "cell_type": "code",
   "execution_count": 39,
   "metadata": {
    "collapsed": false
   },
   "outputs": [
    {
     "data": {
      "text/plain": [
       "(5575, 23)"
      ]
     },
     "execution_count": 39,
     "metadata": {},
     "output_type": "execute_result"
    }
   ],
   "source": [
    "# logistic regression\n",
    "from sklearn.linear_model import LogisticRegression\n",
    "from sklearn.cross_validation import train_test_split\n",
    "\n",
    "features_train, features_test, match_train, match_test = train_test_split(\n",
    "    features, match, test_size=0.20, random_state=0)\n",
    "features_train.shape"
   ]
  },
  {
   "cell_type": "code",
   "execution_count": 40,
   "metadata": {
    "collapsed": false
   },
   "outputs": [
    {
     "data": {
      "text/plain": [
       "LogisticRegression(C=1, class_weight=None, dual=False, fit_intercept=True,\n",
       "          intercept_scaling=1, max_iter=100, multi_class='ovr', n_jobs=1,\n",
       "          penalty='l2', random_state=None, solver='liblinear', tol=0.0001,\n",
       "          verbose=0, warm_start=False)"
      ]
     },
     "execution_count": 40,
     "metadata": {},
     "output_type": "execute_result"
    }
   ],
   "source": [
    "logreg = LogisticRegression(C=1)\n",
    "logreg.fit(features_train, match_train)"
   ]
  },
  {
   "cell_type": "code",
   "execution_count": 41,
   "metadata": {
    "collapsed": false
   },
   "outputs": [
    {
     "data": {
      "text/plain": [
       "0.83142037302725968"
      ]
     },
     "execution_count": 41,
     "metadata": {},
     "output_type": "execute_result"
    }
   ],
   "source": [
    "match_predicted = logreg.predict(features_test)\n",
    "from sklearn.metrics import accuracy_score\n",
    "accuracy_score(match_test, match_predicted)\n",
    "# logistic model achieves 83% accuracy, which is quite good, yet can be improved"
   ]
  },
  {
   "cell_type": "code",
   "execution_count": 45,
   "metadata": {
    "collapsed": false
   },
   "outputs": [
    {
     "data": {
      "text/plain": [
       "array([ 0.82568149,  0.83070301,  0.82065997,  0.83070301,  0.81981335])"
      ]
     },
     "execution_count": 45,
     "metadata": {},
     "output_type": "execute_result"
    }
   ],
   "source": [
    "# Use CV to get a better perspective\n",
    "from sklearn.cross_validation import cross_val_score\n",
    "scores = cross_val_score(logreg, features, match, cv=5)\n",
    "scores\n",
    "# pretty stable outcomes"
   ]
  },
  {
   "cell_type": "code",
   "execution_count": 42,
   "metadata": {
    "collapsed": false
   },
   "outputs": [
    {
     "data": {
      "text/plain": [
       "array(['attr_o', 'sinc_o', 'intel_o', 'fun_o', 'amb_o', 'shar_o', 'sports',\n",
       "       'tvsports', 'exercise', 'dining', 'museums', 'art', 'hiking',\n",
       "       'gaming', 'clubbing', 'reading', 'tv', 'theater', 'movies',\n",
       "       'concerts', 'music', 'shopping', 'yoga'], dtype=object)"
      ]
     },
     "execution_count": 42,
     "metadata": {},
     "output_type": "execute_result"
    }
   ],
   "source": [
    "# weights\n",
    "feature_names = features.columns.values\n",
    "feature_names"
   ]
  },
  {
   "cell_type": "code",
   "execution_count": 43,
   "metadata": {
    "collapsed": false
   },
   "outputs": [
    {
     "data": {
      "text/plain": [
       "array([[ 0.24104062, -0.0116085 ,  0.04257053,  0.24918187, -0.12308366,\n",
       "         0.20568834,  0.00074106, -0.00691011, -0.03859596, -0.01231775,\n",
       "        -0.04729538,  0.04508624, -0.00362983,  0.033443  ,  0.03339492,\n",
       "         0.03769824,  0.02307625,  0.0109399 , -0.06674023,  0.07095483,\n",
       "        -0.05309699, -0.03979335,  0.02741558]])"
      ]
     },
     "execution_count": 43,
     "metadata": {},
     "output_type": "execute_result"
    }
   ],
   "source": [
    "logreg.coef_"
   ]
  },
  {
   "cell_type": "code",
   "execution_count": 44,
   "metadata": {
    "collapsed": false
   },
   "outputs": [
    {
     "data": {
      "image/png": "[encoded data removed]",
      "text/plain": [
       "<matplotlib.figure.Figure at 0x105db27b8>"
      ]
     },
     "metadata": {},
     "output_type": "display_data"
    }
   ],
   "source": [
    "x = np.arange(len(feature_names))\n",
    "plt.bar(x, logreg.coef_.ravel())\n",
    "_ = plt.xticks(x + 0.5, feature_names, rotation=30)\n",
    "# Match is closely linked with attractiveness, fun, ambition and shared interests\n",
    "# Movies and concerts seem also important :D\n",
    "# Yet we know from data exploration, that women see ambition as an important character in men, here we see \n",
    "# match is actually negatively related with ambition...Does this mean that men don't want ambitious women??\n",
    "# This led to my exploration seperating men and women later."
   ]
  },
  {
   "cell_type": "code",
   "execution_count": null,
   "metadata": {
    "collapsed": true
   },
   "outputs": [],
   "source": []
  },
  {
   "cell_type": "code",
   "execution_count": 46,
   "metadata": {
    "collapsed": true
   },
   "outputs": [],
   "source": [
    "# Only deal with men\n",
    "import pandasql as pdsql\n",
    "pysql = lambda q: pdsql.sqldf(q, globals())\n",
    "query_men = \"select * from data where gender = 1\"\n",
    "men = pysql(query_men)"
   ]
  },
  {
   "cell_type": "code",
   "execution_count": 47,
   "metadata": {
    "collapsed": true
   },
   "outputs": [],
   "source": [
    "# preprocessing\n",
    "features_men = men.dropna(subset = input_vars).loc[:, input_vars]\n",
    "match_men = men.dropna(subset = input_vars).match"
   ]
  },
  {
   "cell_type": "code",
   "execution_count": 49,
   "metadata": {
    "collapsed": false
   },
   "outputs": [
    {
     "data": {
      "text/plain": [
       "0.83744557329462987"
      ]
     },
     "execution_count": 49,
     "metadata": {},
     "output_type": "execute_result"
    }
   ],
   "source": [
    "# weights\n",
    "features_train, features_test, match_train, match_test = train_test_split(\n",
    "    features_men, match_men, test_size=0.20, random_state=0)\n",
    "logreg_men = LogisticRegression(C=1)\n",
    "logreg_men.fit(features_train, match_train)\n",
    "match_predicted = logreg_men.predict(features_test)\n",
    "accuracy_score(match_test, match_predicted)"
   ]
  },
  {
   "cell_type": "code",
   "execution_count": 50,
   "metadata": {
    "collapsed": false
   },
   "outputs": [
    {
     "data": {
      "text/plain": [
       "array([[ 0.17116   , -0.04954143,  0.08084767,  0.28337613, -0.10596559,\n",
       "         0.21766893, -0.04410493,  0.01307137, -0.00343373, -0.00754076,\n",
       "        -0.11107962,  0.05066634,  0.00177637, -0.00435082,  0.0395127 ,\n",
       "         0.06130915, -0.00947986, -0.01209139, -0.07567635,  0.05676877,\n",
       "        -0.08110238,  0.00825529,  0.03606447]])"
      ]
     },
     "execution_count": 50,
     "metadata": {},
     "output_type": "execute_result"
    }
   ],
   "source": [
    "logreg_men.coef_"
   ]
  },
  {
   "cell_type": "code",
   "execution_count": 51,
   "metadata": {
    "collapsed": false
   },
   "outputs": [
    {
     "data": {
      "image/png": "[encoded data removed]",
      "text/plain": [
       "<matplotlib.figure.Figure at 0x12272f278>"
      ]
     },
     "metadata": {},
     "output_type": "display_data"
    }
   ],
   "source": [
    "# plot\n",
    "x = np.arange(len(feature_names))\n",
    "plt.bar(x, logreg_men.coef_.ravel())\n",
    "_ = plt.xticks(x + 0.5, feature_names, rotation=30)\n",
    "# No, ambition is still negative..."
   ]
  },
  {
   "cell_type": "code",
   "execution_count": null,
   "metadata": {
    "collapsed": true
   },
   "outputs": [],
   "source": []
  },
  {
   "cell_type": "code",
   "execution_count": 52,
   "metadata": {
    "collapsed": false
   },
   "outputs": [
    {
     "data": {
      "text/plain": [
       "0.82152974504249288"
      ]
     },
     "execution_count": 52,
     "metadata": {},
     "output_type": "execute_result"
    }
   ],
   "source": [
    "# Only deal with women\n",
    "query_women = \"select * from data where gender = 0\"\n",
    "women = pysql(query_women)\n",
    "features_women = women.dropna(subset = input_vars).loc[:, input_vars]\n",
    "match_women = women.dropna(subset = input_vars).match\n",
    "features_train, features_test, match_train, match_test = train_test_split(\n",
    "    features_women, match_women, test_size=0.20, random_state=0)\n",
    "logreg_women = LogisticRegression(C=1)\n",
    "logreg_women.fit(features_train, match_train)\n",
    "match_predicted = logreg_women.predict(features_test)\n",
    "accuracy_score(match_test, match_predicted)"
   ]
  },
  {
   "cell_type": "code",
   "execution_count": 53,
   "metadata": {
    "collapsed": false
   },
   "outputs": [
    {
     "data": {
      "image/png": "[encoded data removed]",
      "text/plain": [
       "<matplotlib.figure.Figure at 0x11334d320>"
      ]
     },
     "metadata": {},
     "output_type": "display_data"
    }
   ],
   "source": [
    "x = np.arange(len(feature_names))\n",
    "plt.bar(x, logreg_women.coef_.ravel())\n",
    "_ = plt.xticks(x + 0.5, feature_names, rotation=30)"
   ]
  },
  {
   "cell_type": "code",
   "execution_count": null,
   "metadata": {
    "collapsed": true
   },
   "outputs": [],
   "source": [
    "# So no, we can't conclude that people don't prefer ambitious women, nor men, since the negative correlation is weak \n",
    "# (less than 0.2). Also, what's possible is that women claim to prefer ambitious men, but they secretly betray their\n",
    "# belief (slightly) when actually choosing men to date. Being ambitious is probably not going to help, but being pretty\n",
    "# is definitely going to."
   ]
  }
 ],
 "metadata": {
  "anaconda-cloud": {},
  "kernelspec": {
   "display_name": "Python [Root]",
   "language": "python",
   "name": "Python [Root]"
  },
  "language_info": {
   "codemirror_mode": {
    "name": "ipython",
    "version": 3
   },
   "file_extension": ".py",
   "mimetype": "text/x-python",
   "name": "python",
   "nbconvert_exporter": "python",
   "pygments_lexer": "ipython3",
   "version": "3.5.2"
  }
 },
 "nbformat": 4,
 "nbformat_minor": 0
}
